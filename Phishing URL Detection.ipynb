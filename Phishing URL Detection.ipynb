{
 "cells": [
  {
   "cell_type": "markdown",
   "id": "32d6395a-aea8-404f-ac45-634ba6d2a54f",
   "metadata": {},
   "source": [
    "## What is Phishing?\n",
    "#### Phishing is a scam where attackers \"fish\" for your private info using fake links or messages that look real.\n",
    "#### Phishing is a type of cyber attack where attackers trick people into revealing sensitive information like passwords, credit card numbers, or personal data by pretending to be a trustworthy source — usually through fake websites, emails, or messages."
   ]
  },
  {
   "cell_type": "code",
   "execution_count": 1,
   "id": "6c5034e7-6466-44dd-ba43-c498f33001e6",
   "metadata": {},
   "outputs": [],
   "source": [
    "import pandas as pd\n",
    "import numpy as np\n",
    "import matplotlib.pyplot as plt\n",
    "import seaborn as sns\n",
    "import warnings\n",
    "warnings.filterwarnings('ignore')"
   ]
  },
  {
   "cell_type": "code",
   "execution_count": 2,
   "id": "26af09b9-34b0-4b89-ad8e-e3b7a0537815",
   "metadata": {},
   "outputs": [],
   "source": [
    "df = pd.read_csv(\"phishing_dataset.csv\")"
   ]
  },
  {
   "cell_type": "code",
   "execution_count": 3,
   "id": "ecfc442e-d6e9-4310-ac2c-11a0d772605e",
   "metadata": {},
   "outputs": [
    {
     "data": {
      "text/html": [
       "<div>\n",
       "<style scoped>\n",
       "    .dataframe tbody tr th:only-of-type {\n",
       "        vertical-align: middle;\n",
       "    }\n",
       "\n",
       "    .dataframe tbody tr th {\n",
       "        vertical-align: top;\n",
       "    }\n",
       "\n",
       "    .dataframe thead th {\n",
       "        text-align: right;\n",
       "    }\n",
       "</style>\n",
       "<table border=\"1\" class=\"dataframe\">\n",
       "  <thead>\n",
       "    <tr style=\"text-align: right;\">\n",
       "      <th></th>\n",
       "      <th>NumDots</th>\n",
       "      <th>UrlLength</th>\n",
       "      <th>NumDash</th>\n",
       "      <th>AtSymbol</th>\n",
       "      <th>IpAddress</th>\n",
       "      <th>HttpsInHostname</th>\n",
       "      <th>PathLevel</th>\n",
       "      <th>PathLength</th>\n",
       "      <th>NumNumericChars</th>\n",
       "      <th>Phishing</th>\n",
       "    </tr>\n",
       "  </thead>\n",
       "  <tbody>\n",
       "    <tr>\n",
       "      <th>0</th>\n",
       "      <td>6</td>\n",
       "      <td>232</td>\n",
       "      <td>4</td>\n",
       "      <td>0</td>\n",
       "      <td>0</td>\n",
       "      <td>0</td>\n",
       "      <td>8</td>\n",
       "      <td>125</td>\n",
       "      <td>58</td>\n",
       "      <td>1</td>\n",
       "    </tr>\n",
       "    <tr>\n",
       "      <th>1</th>\n",
       "      <td>5</td>\n",
       "      <td>88</td>\n",
       "      <td>2</td>\n",
       "      <td>0</td>\n",
       "      <td>0</td>\n",
       "      <td>0</td>\n",
       "      <td>4</td>\n",
       "      <td>66</td>\n",
       "      <td>1</td>\n",
       "      <td>1</td>\n",
       "    </tr>\n",
       "    <tr>\n",
       "      <th>2</th>\n",
       "      <td>7</td>\n",
       "      <td>184</td>\n",
       "      <td>1</td>\n",
       "      <td>0</td>\n",
       "      <td>0</td>\n",
       "      <td>0</td>\n",
       "      <td>11</td>\n",
       "      <td>161</td>\n",
       "      <td>47</td>\n",
       "      <td>1</td>\n",
       "    </tr>\n",
       "    <tr>\n",
       "      <th>3</th>\n",
       "      <td>6</td>\n",
       "      <td>67</td>\n",
       "      <td>0</td>\n",
       "      <td>0</td>\n",
       "      <td>0</td>\n",
       "      <td>0</td>\n",
       "      <td>2</td>\n",
       "      <td>42</td>\n",
       "      <td>0</td>\n",
       "      <td>1</td>\n",
       "    </tr>\n",
       "    <tr>\n",
       "      <th>4</th>\n",
       "      <td>1</td>\n",
       "      <td>123</td>\n",
       "      <td>1</td>\n",
       "      <td>0</td>\n",
       "      <td>0</td>\n",
       "      <td>0</td>\n",
       "      <td>7</td>\n",
       "      <td>60</td>\n",
       "      <td>21</td>\n",
       "      <td>1</td>\n",
       "    </tr>\n",
       "  </tbody>\n",
       "</table>\n",
       "</div>"
      ],
      "text/plain": [
       "   NumDots  UrlLength  NumDash  AtSymbol  IpAddress  HttpsInHostname  \\\n",
       "0        6        232        4         0          0                0   \n",
       "1        5         88        2         0          0                0   \n",
       "2        7        184        1         0          0                0   \n",
       "3        6         67        0         0          0                0   \n",
       "4        1        123        1         0          0                0   \n",
       "\n",
       "   PathLevel  PathLength  NumNumericChars  Phishing  \n",
       "0          8         125               58         1  \n",
       "1          4          66                1         1  \n",
       "2         11         161               47         1  \n",
       "3          2          42                0         1  \n",
       "4          7          60               21         1  "
      ]
     },
     "execution_count": 3,
     "metadata": {},
     "output_type": "execute_result"
    }
   ],
   "source": [
    "df.head()"
   ]
  },
  {
   "cell_type": "code",
   "execution_count": 4,
   "id": "acc5a31b-9176-4b74-86ab-9f0aeb2977dd",
   "metadata": {},
   "outputs": [
    {
     "data": {
      "text/html": [
       "<div>\n",
       "<style scoped>\n",
       "    .dataframe tbody tr th:only-of-type {\n",
       "        vertical-align: middle;\n",
       "    }\n",
       "\n",
       "    .dataframe tbody tr th {\n",
       "        vertical-align: top;\n",
       "    }\n",
       "\n",
       "    .dataframe thead th {\n",
       "        text-align: right;\n",
       "    }\n",
       "</style>\n",
       "<table border=\"1\" class=\"dataframe\">\n",
       "  <thead>\n",
       "    <tr style=\"text-align: right;\">\n",
       "      <th></th>\n",
       "      <th>NumDots</th>\n",
       "      <th>UrlLength</th>\n",
       "      <th>NumDash</th>\n",
       "      <th>AtSymbol</th>\n",
       "      <th>IpAddress</th>\n",
       "      <th>HttpsInHostname</th>\n",
       "      <th>PathLevel</th>\n",
       "      <th>PathLength</th>\n",
       "      <th>NumNumericChars</th>\n",
       "      <th>Phishing</th>\n",
       "    </tr>\n",
       "  </thead>\n",
       "  <tbody>\n",
       "    <tr>\n",
       "      <th>141187</th>\n",
       "      <td>2</td>\n",
       "      <td>27</td>\n",
       "      <td>0</td>\n",
       "      <td>0</td>\n",
       "      <td>0</td>\n",
       "      <td>0</td>\n",
       "      <td>1</td>\n",
       "      <td>1</td>\n",
       "      <td>0</td>\n",
       "      <td>0</td>\n",
       "    </tr>\n",
       "    <tr>\n",
       "      <th>548011</th>\n",
       "      <td>3</td>\n",
       "      <td>21</td>\n",
       "      <td>0</td>\n",
       "      <td>0</td>\n",
       "      <td>1</td>\n",
       "      <td>0</td>\n",
       "      <td>0</td>\n",
       "      <td>0</td>\n",
       "      <td>10</td>\n",
       "      <td>1</td>\n",
       "    </tr>\n",
       "    <tr>\n",
       "      <th>390069</th>\n",
       "      <td>3</td>\n",
       "      <td>80</td>\n",
       "      <td>0</td>\n",
       "      <td>0</td>\n",
       "      <td>0</td>\n",
       "      <td>0</td>\n",
       "      <td>5</td>\n",
       "      <td>64</td>\n",
       "      <td>6</td>\n",
       "      <td>0</td>\n",
       "    </tr>\n",
       "    <tr>\n",
       "      <th>269742</th>\n",
       "      <td>1</td>\n",
       "      <td>38</td>\n",
       "      <td>0</td>\n",
       "      <td>0</td>\n",
       "      <td>0</td>\n",
       "      <td>0</td>\n",
       "      <td>3</td>\n",
       "      <td>16</td>\n",
       "      <td>0</td>\n",
       "      <td>0</td>\n",
       "    </tr>\n",
       "    <tr>\n",
       "      <th>483610</th>\n",
       "      <td>3</td>\n",
       "      <td>39</td>\n",
       "      <td>0</td>\n",
       "      <td>0</td>\n",
       "      <td>0</td>\n",
       "      <td>0</td>\n",
       "      <td>2</td>\n",
       "      <td>15</td>\n",
       "      <td>3</td>\n",
       "      <td>1</td>\n",
       "    </tr>\n",
       "  </tbody>\n",
       "</table>\n",
       "</div>"
      ],
      "text/plain": [
       "        NumDots  UrlLength  NumDash  AtSymbol  IpAddress  HttpsInHostname  \\\n",
       "141187        2         27        0         0          0                0   \n",
       "548011        3         21        0         0          1                0   \n",
       "390069        3         80        0         0          0                0   \n",
       "269742        1         38        0         0          0                0   \n",
       "483610        3         39        0         0          0                0   \n",
       "\n",
       "        PathLevel  PathLength  NumNumericChars  Phishing  \n",
       "141187          1           1                0         0  \n",
       "548011          0           0               10         1  \n",
       "390069          5          64                6         0  \n",
       "269742          3          16                0         0  \n",
       "483610          2          15                3         1  "
      ]
     },
     "execution_count": 4,
     "metadata": {},
     "output_type": "execute_result"
    }
   ],
   "source": [
    "df.sample(5)"
   ]
  },
  {
   "cell_type": "code",
   "execution_count": 5,
   "id": "cf7351f8-e4d7-4273-898d-5fc7e942287d",
   "metadata": {},
   "outputs": [
    {
     "data": {
      "text/plain": [
       "NumDots            0\n",
       "UrlLength          0\n",
       "NumDash            0\n",
       "AtSymbol           0\n",
       "IpAddress          0\n",
       "HttpsInHostname    0\n",
       "PathLevel          0\n",
       "PathLength         0\n",
       "NumNumericChars    0\n",
       "Phishing           0\n",
       "dtype: int64"
      ]
     },
     "execution_count": 5,
     "metadata": {},
     "output_type": "execute_result"
    }
   ],
   "source": [
    "df.isnull().sum()"
   ]
  },
  {
   "cell_type": "code",
   "execution_count": 6,
   "id": "4c36eda2-6852-4538-89df-193cedd66e60",
   "metadata": {},
   "outputs": [
    {
     "data": {
      "text/plain": [
       "NumDots            int64\n",
       "UrlLength          int64\n",
       "NumDash            int64\n",
       "AtSymbol           int64\n",
       "IpAddress          int64\n",
       "HttpsInHostname    int64\n",
       "PathLevel          int64\n",
       "PathLength         int64\n",
       "NumNumericChars    int64\n",
       "Phishing           int64\n",
       "dtype: object"
      ]
     },
     "execution_count": 6,
     "metadata": {},
     "output_type": "execute_result"
    }
   ],
   "source": [
    "df.dtypes"
   ]
  },
  {
   "cell_type": "code",
   "execution_count": 7,
   "id": "43dd5d09-baca-46b5-9388-ffcbe1f01089",
   "metadata": {},
   "outputs": [
    {
     "name": "stdout",
     "output_type": "stream",
     "text": [
      "<class 'pandas.core.frame.DataFrame'>\n",
      "RangeIndex: 549333 entries, 0 to 549332\n",
      "Data columns (total 10 columns):\n",
      " #   Column           Non-Null Count   Dtype\n",
      "---  ------           --------------   -----\n",
      " 0   NumDots          549333 non-null  int64\n",
      " 1   UrlLength        549333 non-null  int64\n",
      " 2   NumDash          549333 non-null  int64\n",
      " 3   AtSymbol         549333 non-null  int64\n",
      " 4   IpAddress        549333 non-null  int64\n",
      " 5   HttpsInHostname  549333 non-null  int64\n",
      " 6   PathLevel        549333 non-null  int64\n",
      " 7   PathLength       549333 non-null  int64\n",
      " 8   NumNumericChars  549333 non-null  int64\n",
      " 9   Phishing         549333 non-null  int64\n",
      "dtypes: int64(10)\n",
      "memory usage: 41.9 MB\n"
     ]
    }
   ],
   "source": [
    "df.info()"
   ]
  },
  {
   "cell_type": "code",
   "execution_count": 8,
   "id": "a986c342-a68a-4d27-963f-57727c572388",
   "metadata": {},
   "outputs": [
    {
     "data": {
      "text/html": [
       "<div>\n",
       "<style scoped>\n",
       "    .dataframe tbody tr th:only-of-type {\n",
       "        vertical-align: middle;\n",
       "    }\n",
       "\n",
       "    .dataframe tbody tr th {\n",
       "        vertical-align: top;\n",
       "    }\n",
       "\n",
       "    .dataframe thead th {\n",
       "        text-align: right;\n",
       "    }\n",
       "</style>\n",
       "<table border=\"1\" class=\"dataframe\">\n",
       "  <thead>\n",
       "    <tr style=\"text-align: right;\">\n",
       "      <th></th>\n",
       "      <th>NumDots</th>\n",
       "      <th>UrlLength</th>\n",
       "      <th>NumDash</th>\n",
       "      <th>AtSymbol</th>\n",
       "      <th>IpAddress</th>\n",
       "      <th>HttpsInHostname</th>\n",
       "      <th>PathLevel</th>\n",
       "      <th>PathLength</th>\n",
       "      <th>NumNumericChars</th>\n",
       "      <th>Phishing</th>\n",
       "    </tr>\n",
       "  </thead>\n",
       "  <tbody>\n",
       "    <tr>\n",
       "      <th>count</th>\n",
       "      <td>549333.000000</td>\n",
       "      <td>549333.000000</td>\n",
       "      <td>549333.000000</td>\n",
       "      <td>549333.000000</td>\n",
       "      <td>549333.000000</td>\n",
       "      <td>549333.000000</td>\n",
       "      <td>549333.000000</td>\n",
       "      <td>549333.000000</td>\n",
       "      <td>549333.000000</td>\n",
       "      <td>549333.000000</td>\n",
       "    </tr>\n",
       "    <tr>\n",
       "      <th>mean</th>\n",
       "      <td>2.062347</td>\n",
       "      <td>57.731891</td>\n",
       "      <td>1.126468</td>\n",
       "      <td>0.003721</td>\n",
       "      <td>0.014241</td>\n",
       "      <td>0.000073</td>\n",
       "      <td>2.386882</td>\n",
       "      <td>26.315106</td>\n",
       "      <td>4.769333</td>\n",
       "      <td>0.284749</td>\n",
       "    </tr>\n",
       "    <tr>\n",
       "      <th>std</th>\n",
       "      <td>1.514627</td>\n",
       "      <td>44.409792</td>\n",
       "      <td>2.424368</td>\n",
       "      <td>0.060885</td>\n",
       "      <td>0.118483</td>\n",
       "      <td>0.008533</td>\n",
       "      <td>1.513652</td>\n",
       "      <td>24.099446</td>\n",
       "      <td>11.572887</td>\n",
       "      <td>0.451295</td>\n",
       "    </tr>\n",
       "    <tr>\n",
       "      <th>min</th>\n",
       "      <td>0.000000</td>\n",
       "      <td>8.000000</td>\n",
       "      <td>0.000000</td>\n",
       "      <td>0.000000</td>\n",
       "      <td>0.000000</td>\n",
       "      <td>0.000000</td>\n",
       "      <td>0.000000</td>\n",
       "      <td>0.000000</td>\n",
       "      <td>0.000000</td>\n",
       "      <td>0.000000</td>\n",
       "    </tr>\n",
       "    <tr>\n",
       "      <th>25%</th>\n",
       "      <td>1.000000</td>\n",
       "      <td>36.000000</td>\n",
       "      <td>0.000000</td>\n",
       "      <td>0.000000</td>\n",
       "      <td>0.000000</td>\n",
       "      <td>0.000000</td>\n",
       "      <td>1.000000</td>\n",
       "      <td>10.000000</td>\n",
       "      <td>0.000000</td>\n",
       "      <td>0.000000</td>\n",
       "    </tr>\n",
       "    <tr>\n",
       "      <th>50%</th>\n",
       "      <td>2.000000</td>\n",
       "      <td>47.000000</td>\n",
       "      <td>0.000000</td>\n",
       "      <td>0.000000</td>\n",
       "      <td>0.000000</td>\n",
       "      <td>0.000000</td>\n",
       "      <td>2.000000</td>\n",
       "      <td>20.000000</td>\n",
       "      <td>1.000000</td>\n",
       "      <td>0.000000</td>\n",
       "    </tr>\n",
       "    <tr>\n",
       "      <th>75%</th>\n",
       "      <td>2.000000</td>\n",
       "      <td>66.000000</td>\n",
       "      <td>1.000000</td>\n",
       "      <td>0.000000</td>\n",
       "      <td>0.000000</td>\n",
       "      <td>0.000000</td>\n",
       "      <td>3.000000</td>\n",
       "      <td>36.000000</td>\n",
       "      <td>6.000000</td>\n",
       "      <td>1.000000</td>\n",
       "    </tr>\n",
       "    <tr>\n",
       "      <th>max</th>\n",
       "      <td>37.000000</td>\n",
       "      <td>2314.000000</td>\n",
       "      <td>42.000000</td>\n",
       "      <td>1.000000</td>\n",
       "      <td>1.000000</td>\n",
       "      <td>1.000000</td>\n",
       "      <td>34.000000</td>\n",
       "      <td>2156.000000</td>\n",
       "      <td>545.000000</td>\n",
       "      <td>1.000000</td>\n",
       "    </tr>\n",
       "  </tbody>\n",
       "</table>\n",
       "</div>"
      ],
      "text/plain": [
       "             NumDots      UrlLength        NumDash       AtSymbol  \\\n",
       "count  549333.000000  549333.000000  549333.000000  549333.000000   \n",
       "mean        2.062347      57.731891       1.126468       0.003721   \n",
       "std         1.514627      44.409792       2.424368       0.060885   \n",
       "min         0.000000       8.000000       0.000000       0.000000   \n",
       "25%         1.000000      36.000000       0.000000       0.000000   \n",
       "50%         2.000000      47.000000       0.000000       0.000000   \n",
       "75%         2.000000      66.000000       1.000000       0.000000   \n",
       "max        37.000000    2314.000000      42.000000       1.000000   \n",
       "\n",
       "           IpAddress  HttpsInHostname      PathLevel     PathLength  \\\n",
       "count  549333.000000    549333.000000  549333.000000  549333.000000   \n",
       "mean        0.014241         0.000073       2.386882      26.315106   \n",
       "std         0.118483         0.008533       1.513652      24.099446   \n",
       "min         0.000000         0.000000       0.000000       0.000000   \n",
       "25%         0.000000         0.000000       1.000000      10.000000   \n",
       "50%         0.000000         0.000000       2.000000      20.000000   \n",
       "75%         0.000000         0.000000       3.000000      36.000000   \n",
       "max         1.000000         1.000000      34.000000    2156.000000   \n",
       "\n",
       "       NumNumericChars       Phishing  \n",
       "count    549333.000000  549333.000000  \n",
       "mean          4.769333       0.284749  \n",
       "std          11.572887       0.451295  \n",
       "min           0.000000       0.000000  \n",
       "25%           0.000000       0.000000  \n",
       "50%           1.000000       0.000000  \n",
       "75%           6.000000       1.000000  \n",
       "max         545.000000       1.000000  "
      ]
     },
     "execution_count": 8,
     "metadata": {},
     "output_type": "execute_result"
    }
   ],
   "source": [
    "df.describe()"
   ]
  },
  {
   "cell_type": "code",
   "execution_count": 9,
   "id": "dcead02f-dbb8-40d0-96a1-bd2761a13b2b",
   "metadata": {},
   "outputs": [
    {
     "data": {
      "text/plain": [
       "(549333, 10)"
      ]
     },
     "execution_count": 9,
     "metadata": {},
     "output_type": "execute_result"
    }
   ],
   "source": [
    "df.shape"
   ]
  },
  {
   "cell_type": "code",
   "execution_count": 186,
   "id": "241a1e1e-52f9-4c6c-b456-eea5291af420",
   "metadata": {},
   "outputs": [
    {
     "data": {
      "image/png": "[encoded data removed]",
      "text/plain": [
       "<Figure size 640x480 with 1 Axes>"
      ]
     },
     "metadata": {},
     "output_type": "display_data"
    }
   ],
   "source": [
    "sns.boxplot(data=df, x='Phishing', y='UrlLength')\n",
    "plt.title(\"URL Length vs Result\")\n",
    "plt.show()"
   ]
  },
  {
   "cell_type": "code",
   "execution_count": 10,
   "id": "1dd62630-be3c-451d-bf39-1a495a3f6331",
   "metadata": {},
   "outputs": [],
   "source": [
    "min_range = df[\"UrlLength\"].mean() - (3*df[\"UrlLength\"].std())\n",
    "max_range = df[\"UrlLength\"].mean() + (3*df[\"UrlLength\"].std())"
   ]
  },
  {
   "cell_type": "code",
   "execution_count": 11,
   "id": "a338a16b-d2aa-49a8-8f21-43f9634e6059",
   "metadata": {},
   "outputs": [
    {
     "data": {
      "text/plain": [
       "(np.float64(-75.49748595019183), np.float64(190.96126839180738))"
      ]
     },
     "execution_count": 11,
     "metadata": {},
     "output_type": "execute_result"
    }
   ],
   "source": [
    "min_range,max_range"
   ]
  },
  {
   "cell_type": "code",
   "execution_count": 12,
   "id": "f66ed00d-95c6-400b-b698-e7bec03aee79",
   "metadata": {},
   "outputs": [],
   "source": [
    "df = df[df[\"UrlLength\"]<=max_range]"
   ]
  },
  {
   "cell_type": "code",
   "execution_count": 159,
   "id": "a10dc266-13df-44f2-b7ee-67b7aad012e4",
   "metadata": {},
   "outputs": [
    {
     "data": {
      "image/png": "[encoded data removed]",
      "text/plain": [
       "<Figure size 579x512 with 1 Axes>"
      ]
     },
     "metadata": {},
     "output_type": "display_data"
    }
   ],
   "source": [
    "plt.figure(figsize=(5.79, 5.12))\n",
    "df['PhishingLabel'] = df['Phishing'].map({0: \"Non Phishing\", 1: \"Phishing\"})\n",
    "sns.boxplot(data=df, x='PhishingLabel', y='UrlLength')\n",
    "plt.title(\"URL Length vs Phishing\")\n",
    "plt.xlabel(\"\")\n",
    "plt.savefig(r\"C:\\Users\\baghe\\Desktop\\Machine Learning\\Phishing URL Detection\\static\\boxplot.png\", dpi=100, transparent=True)\n",
    "plt.show()\n"
   ]
  },
  {
   "cell_type": "code",
   "execution_count": 160,
   "id": "b08d6589-82a8-4f16-bb3c-1de106699146",
   "metadata": {},
   "outputs": [
    {
     "data": {
      "image/png": "[encoded data removed]",
      "text/plain": [
       "<Figure size 579x512 with 1 Axes>"
      ]
     },
     "metadata": {},
     "output_type": "display_data"
    }
   ],
   "source": [
    "label_map = {0: \"Non Phishing\", 1: \"Phishing\"}\n",
    "counts = df[\"IpAddress\"].map(label_map).value_counts()\n",
    "plt.figure(figsize=(5.79, 5.12))\n",
    "plt.title(\"Count of Phishing and Non Phishing IP Address\")\n",
    "counts.plot(kind='bar', color=['skyblue', 'salmon'])\n",
    "plt.xticks(rotation=0)\n",
    "plt.xlabel(\"\")\n",
    "plt.savefig(r\"C:\\Users\\baghe\\Desktop\\Machine Learning\\Phishing URL Detection\\static\\count_ip.png\", dpi=100, transparent=True)"
   ]
  },
  {
   "cell_type": "code",
   "execution_count": 190,
   "id": "de03aa83-f1cc-4625-9173-3b4591c85293",
   "metadata": {},
   "outputs": [
    {
     "data": {
      "text/html": [
       "<div>\n",
       "<style scoped>\n",
       "    .dataframe tbody tr th:only-of-type {\n",
       "        vertical-align: middle;\n",
       "    }\n",
       "\n",
       "    .dataframe tbody tr th {\n",
       "        vertical-align: top;\n",
       "    }\n",
       "\n",
       "    .dataframe thead th {\n",
       "        text-align: right;\n",
       "    }\n",
       "</style>\n",
       "<table border=\"1\" class=\"dataframe\">\n",
       "  <thead>\n",
       "    <tr style=\"text-align: right;\">\n",
       "      <th></th>\n",
       "      <th>NumDots</th>\n",
       "      <th>UrlLength</th>\n",
       "      <th>NumDash</th>\n",
       "      <th>AtSymbol</th>\n",
       "      <th>IpAddress</th>\n",
       "      <th>HttpsInHostname</th>\n",
       "      <th>PathLevel</th>\n",
       "      <th>PathLength</th>\n",
       "      <th>NumNumericChars</th>\n",
       "      <th>Phishing</th>\n",
       "    </tr>\n",
       "  </thead>\n",
       "  <tbody>\n",
       "    <tr>\n",
       "      <th>count</th>\n",
       "      <td>540057.000000</td>\n",
       "      <td>540057.000000</td>\n",
       "      <td>540057.000000</td>\n",
       "      <td>540057.000000</td>\n",
       "      <td>540057.000000</td>\n",
       "      <td>540057.000000</td>\n",
       "      <td>540057.000000</td>\n",
       "      <td>540057.000000</td>\n",
       "      <td>540057.000000</td>\n",
       "      <td>540057.000000</td>\n",
       "    </tr>\n",
       "    <tr>\n",
       "      <th>mean</th>\n",
       "      <td>1.985268</td>\n",
       "      <td>53.669255</td>\n",
       "      <td>1.081341</td>\n",
       "      <td>0.003287</td>\n",
       "      <td>0.014443</td>\n",
       "      <td>0.000052</td>\n",
       "      <td>2.365845</td>\n",
       "      <td>25.770019</td>\n",
       "      <td>3.765190</td>\n",
       "      <td>0.273603</td>\n",
       "    </tr>\n",
       "    <tr>\n",
       "      <th>std</th>\n",
       "      <td>1.226847</td>\n",
       "      <td>26.688609</td>\n",
       "      <td>2.327840</td>\n",
       "      <td>0.057235</td>\n",
       "      <td>0.119308</td>\n",
       "      <td>0.007200</td>\n",
       "      <td>1.479090</td>\n",
       "      <td>22.345472</td>\n",
       "      <td>6.634707</td>\n",
       "      <td>0.445808</td>\n",
       "    </tr>\n",
       "    <tr>\n",
       "      <th>min</th>\n",
       "      <td>0.000000</td>\n",
       "      <td>8.000000</td>\n",
       "      <td>0.000000</td>\n",
       "      <td>0.000000</td>\n",
       "      <td>0.000000</td>\n",
       "      <td>0.000000</td>\n",
       "      <td>0.000000</td>\n",
       "      <td>0.000000</td>\n",
       "      <td>0.000000</td>\n",
       "      <td>0.000000</td>\n",
       "    </tr>\n",
       "    <tr>\n",
       "      <th>25%</th>\n",
       "      <td>1.000000</td>\n",
       "      <td>35.000000</td>\n",
       "      <td>0.000000</td>\n",
       "      <td>0.000000</td>\n",
       "      <td>0.000000</td>\n",
       "      <td>0.000000</td>\n",
       "      <td>1.000000</td>\n",
       "      <td>10.000000</td>\n",
       "      <td>0.000000</td>\n",
       "      <td>0.000000</td>\n",
       "    </tr>\n",
       "    <tr>\n",
       "      <th>50%</th>\n",
       "      <td>2.000000</td>\n",
       "      <td>47.000000</td>\n",
       "      <td>0.000000</td>\n",
       "      <td>0.000000</td>\n",
       "      <td>0.000000</td>\n",
       "      <td>0.000000</td>\n",
       "      <td>2.000000</td>\n",
       "      <td>20.000000</td>\n",
       "      <td>1.000000</td>\n",
       "      <td>0.000000</td>\n",
       "    </tr>\n",
       "    <tr>\n",
       "      <th>75%</th>\n",
       "      <td>2.000000</td>\n",
       "      <td>65.000000</td>\n",
       "      <td>1.000000</td>\n",
       "      <td>0.000000</td>\n",
       "      <td>0.000000</td>\n",
       "      <td>0.000000</td>\n",
       "      <td>3.000000</td>\n",
       "      <td>35.000000</td>\n",
       "      <td>6.000000</td>\n",
       "      <td>1.000000</td>\n",
       "    </tr>\n",
       "    <tr>\n",
       "      <th>max</th>\n",
       "      <td>28.000000</td>\n",
       "      <td>190.000000</td>\n",
       "      <td>41.000000</td>\n",
       "      <td>1.000000</td>\n",
       "      <td>1.000000</td>\n",
       "      <td>1.000000</td>\n",
       "      <td>28.000000</td>\n",
       "      <td>189.000000</td>\n",
       "      <td>120.000000</td>\n",
       "      <td>1.000000</td>\n",
       "    </tr>\n",
       "  </tbody>\n",
       "</table>\n",
       "</div>"
      ],
      "text/plain": [
       "             NumDots      UrlLength        NumDash       AtSymbol  \\\n",
       "count  540057.000000  540057.000000  540057.000000  540057.000000   \n",
       "mean        1.985268      53.669255       1.081341       0.003287   \n",
       "std         1.226847      26.688609       2.327840       0.057235   \n",
       "min         0.000000       8.000000       0.000000       0.000000   \n",
       "25%         1.000000      35.000000       0.000000       0.000000   \n",
       "50%         2.000000      47.000000       0.000000       0.000000   \n",
       "75%         2.000000      65.000000       1.000000       0.000000   \n",
       "max        28.000000     190.000000      41.000000       1.000000   \n",
       "\n",
       "           IpAddress  HttpsInHostname      PathLevel     PathLength  \\\n",
       "count  540057.000000    540057.000000  540057.000000  540057.000000   \n",
       "mean        0.014443         0.000052       2.365845      25.770019   \n",
       "std         0.119308         0.007200       1.479090      22.345472   \n",
       "min         0.000000         0.000000       0.000000       0.000000   \n",
       "25%         0.000000         0.000000       1.000000      10.000000   \n",
       "50%         0.000000         0.000000       2.000000      20.000000   \n",
       "75%         0.000000         0.000000       3.000000      35.000000   \n",
       "max         1.000000         1.000000      28.000000     189.000000   \n",
       "\n",
       "       NumNumericChars       Phishing  \n",
       "count    540057.000000  540057.000000  \n",
       "mean          3.765190       0.273603  \n",
       "std           6.634707       0.445808  \n",
       "min           0.000000       0.000000  \n",
       "25%           0.000000       0.000000  \n",
       "50%           1.000000       0.000000  \n",
       "75%           6.000000       1.000000  \n",
       "max         120.000000       1.000000  "
      ]
     },
     "execution_count": 190,
     "metadata": {},
     "output_type": "execute_result"
    }
   ],
   "source": [
    "df.describe()"
   ]
  },
  {
   "cell_type": "code",
   "execution_count": null,
   "id": "72881180-71a5-4df2-886a-958e056bc994",
   "metadata": {},
   "outputs": [],
   "source": []
  },
  {
   "cell_type": "code",
   "execution_count": 162,
   "id": "b59319cf-3804-404d-ab97-9f8111867e4c",
   "metadata": {},
   "outputs": [
    {
     "data": {
      "image/png": "[encoded data removed]",
      "text/plain": [
       "<Figure size 579x512 with 1 Axes>"
      ]
     },
     "metadata": {},
     "output_type": "display_data"
    }
   ],
   "source": [
    "label_map = {0: \"Non Phishing\", 1: \"Phishing\"}\n",
    "counts = df[\"Phishing\"].map(label_map).value_counts()\n",
    "plt.figure(figsize=(5.79, 5.12))\n",
    "plt.title(\"Count of Phishing and Non Phishing URLs\")\n",
    "counts.plot(kind='bar', color=['skyblue', 'salmon'])\n",
    "plt.xticks(rotation=0)\n",
    "plt.xlabel(\"\")\n",
    "plt.savefig(r\"C:\\Users\\baghe\\Desktop\\Machine Learning\\Phishing URL Detection\\static\\count_plot.png\", dpi=100, transparent=True)"
   ]
  },
  {
   "cell_type": "code",
   "execution_count": 163,
   "id": "68cc0287-572d-44c7-bb43-db496a8e8b9f",
   "metadata": {},
   "outputs": [
    {
     "data": {
      "image/png": "[encoded data removed]",
      "text/plain": [
       "<Figure size 579x512 with 1 Axes>"
      ]
     },
     "metadata": {},
     "output_type": "display_data"
    }
   ],
   "source": [
    "counts = df[\"Phishing\"].value_counts()\n",
    "label_map = {0: \"Non Phishing\", 1: \"Phishing\"}\n",
    "labels = [label_map[i] for i in counts.index]\n",
    "sizes = counts.values\n",
    "plt.figure(figsize=(5.79, 5.12))\n",
    "plt.pie(sizes, labels=labels, autopct='%1.1f%%', colors=['#66b3ff', '#ff9933'])\n",
    "plt.axis('equal')\n",
    "plt.axis('off')\n",
    "plt.title(\"Phishing vs Non Phishing URLs\")\n",
    "plt.savefig(r\"C:\\Users\\baghe\\Desktop\\Machine Learning\\Phishing URL Detection\\static\\pie_chart.png\", dpi=100, transparent=True)\n"
   ]
  },
  {
   "cell_type": "code",
   "execution_count": 55,
   "id": "450960e1-561d-4b3b-b37e-7a87096ac70f",
   "metadata": {},
   "outputs": [
    {
     "data": {
      "image/png": "[encoded data removed]",
      "text/plain": [
       "<Figure size 579x512 with 1 Axes>"
      ]
     },
     "metadata": {},
     "output_type": "display_data"
    }
   ],
   "source": [
    "plt.figure(figsize=(5.79, 5.12))\n",
    "sns.distplot(df[df[\"Phishing\"]==0]['NumDots'],hist=False,label='Non Phishing')\n",
    "sns.distplot(df[df[\"Phishing\"]==1]['NumDots'],hist = False,label='Phishing')\n",
    "plt.title(\"Distribution Plot of Number of Dots\")\n",
    "plt.legend()\n",
    "plt.savefig(r\"C:\\Users\\baghe\\Desktop\\Machine Learning\\Phishing URL Detection\\static\\distplotND.png\", dpi=100, transparent=True)"
   ]
  },
  {
   "cell_type": "code",
   "execution_count": 191,
   "id": "ea46a202-a5a9-4769-9c8f-a3ee8368935a",
   "metadata": {},
   "outputs": [
    {
     "data": {
      "image/png": "[encoded data removed]",
      "text/plain": [
       "<Figure size 579x512 with 1 Axes>"
      ]
     },
     "metadata": {},
     "output_type": "display_data"
    }
   ],
   "source": [
    "plt.figure(figsize=(5.79, 5.12))\n",
    "sns.distplot(df[df[\"Phishing\"]==0]['UrlLength'],hist=False,label='Non Phishing')\n",
    "sns.distplot(df[df[\"Phishing\"]==1]['UrlLength'],hist = False,label='Phishing')\n",
    "plt.title(\"Distribution Plot of URL Length\")\n",
    "plt.legend()\n",
    "plt.savefig(r\"C:\\Users\\baghe\\Desktop\\Machine Learning\\Phishing URL Detection\\static\\distplot.png\", dpi=100, transparent=True)"
   ]
  },
  {
   "cell_type": "code",
   "execution_count": 13,
   "id": "48e6b130-7f6c-45ca-a6a7-34a808078de9",
   "metadata": {},
   "outputs": [],
   "source": [
    "x = df.drop(columns=[\"Phishing\"])\n",
    "y = df[\"Phishing\"]"
   ]
  },
  {
   "cell_type": "code",
   "execution_count": 14,
   "id": "a6f983f3-0a8e-4fd4-bec4-16cb10df9683",
   "metadata": {},
   "outputs": [],
   "source": [
    "from imblearn.under_sampling import RandomUnderSampler"
   ]
  },
  {
   "cell_type": "code",
   "execution_count": 15,
   "id": "74f8b8cc-f4c3-4b96-a861-82eca2edd0b7",
   "metadata": {},
   "outputs": [],
   "source": [
    "rus = RandomUnderSampler(random_state=10)\n",
    "x, y = rus.fit_resample(x, y)"
   ]
  },
  {
   "cell_type": "code",
   "execution_count": 16,
   "id": "2b24c932-dc26-420d-969c-8fd106f52c08",
   "metadata": {},
   "outputs": [
    {
     "data": {
      "text/plain": [
       "((295522, 9), (295522,))"
      ]
     },
     "execution_count": 16,
     "metadata": {},
     "output_type": "execute_result"
    }
   ],
   "source": [
    "x.shape,y.shape"
   ]
  },
  {
   "cell_type": "code",
   "execution_count": 17,
   "id": "91adc38e-6dc8-4a80-8b3c-1f730f48790f",
   "metadata": {},
   "outputs": [
    {
     "data": {
      "text/html": [
       "<div>\n",
       "<style scoped>\n",
       "    .dataframe tbody tr th:only-of-type {\n",
       "        vertical-align: middle;\n",
       "    }\n",
       "\n",
       "    .dataframe tbody tr th {\n",
       "        vertical-align: top;\n",
       "    }\n",
       "\n",
       "    .dataframe thead th {\n",
       "        text-align: right;\n",
       "    }\n",
       "</style>\n",
       "<table border=\"1\" class=\"dataframe\">\n",
       "  <thead>\n",
       "    <tr style=\"text-align: right;\">\n",
       "      <th></th>\n",
       "      <th>NumDots</th>\n",
       "      <th>UrlLength</th>\n",
       "      <th>NumDash</th>\n",
       "      <th>AtSymbol</th>\n",
       "      <th>IpAddress</th>\n",
       "      <th>HttpsInHostname</th>\n",
       "      <th>PathLevel</th>\n",
       "      <th>PathLength</th>\n",
       "      <th>NumNumericChars</th>\n",
       "    </tr>\n",
       "  </thead>\n",
       "  <tbody>\n",
       "    <tr>\n",
       "      <th>54841</th>\n",
       "      <td>2</td>\n",
       "      <td>28</td>\n",
       "      <td>0</td>\n",
       "      <td>0</td>\n",
       "      <td>0</td>\n",
       "      <td>0</td>\n",
       "      <td>2</td>\n",
       "      <td>5</td>\n",
       "      <td>0</td>\n",
       "    </tr>\n",
       "    <tr>\n",
       "      <th>73184</th>\n",
       "      <td>3</td>\n",
       "      <td>36</td>\n",
       "      <td>0</td>\n",
       "      <td>0</td>\n",
       "      <td>0</td>\n",
       "      <td>0</td>\n",
       "      <td>1</td>\n",
       "      <td>12</td>\n",
       "      <td>1</td>\n",
       "    </tr>\n",
       "    <tr>\n",
       "      <th>370141</th>\n",
       "      <td>2</td>\n",
       "      <td>33</td>\n",
       "      <td>0</td>\n",
       "      <td>0</td>\n",
       "      <td>0</td>\n",
       "      <td>0</td>\n",
       "      <td>1</td>\n",
       "      <td>13</td>\n",
       "      <td>0</td>\n",
       "    </tr>\n",
       "    <tr>\n",
       "      <th>49166</th>\n",
       "      <td>2</td>\n",
       "      <td>36</td>\n",
       "      <td>0</td>\n",
       "      <td>0</td>\n",
       "      <td>0</td>\n",
       "      <td>0</td>\n",
       "      <td>2</td>\n",
       "      <td>10</td>\n",
       "      <td>0</td>\n",
       "    </tr>\n",
       "    <tr>\n",
       "      <th>158208</th>\n",
       "      <td>1</td>\n",
       "      <td>50</td>\n",
       "      <td>2</td>\n",
       "      <td>0</td>\n",
       "      <td>0</td>\n",
       "      <td>0</td>\n",
       "      <td>2</td>\n",
       "      <td>26</td>\n",
       "      <td>0</td>\n",
       "    </tr>\n",
       "    <tr>\n",
       "      <th>...</th>\n",
       "      <td>...</td>\n",
       "      <td>...</td>\n",
       "      <td>...</td>\n",
       "      <td>...</td>\n",
       "      <td>...</td>\n",
       "      <td>...</td>\n",
       "      <td>...</td>\n",
       "      <td>...</td>\n",
       "      <td>...</td>\n",
       "    </tr>\n",
       "    <tr>\n",
       "      <th>549328</th>\n",
       "      <td>3</td>\n",
       "      <td>22</td>\n",
       "      <td>0</td>\n",
       "      <td>0</td>\n",
       "      <td>1</td>\n",
       "      <td>0</td>\n",
       "      <td>1</td>\n",
       "      <td>1</td>\n",
       "      <td>11</td>\n",
       "    </tr>\n",
       "    <tr>\n",
       "      <th>549329</th>\n",
       "      <td>1</td>\n",
       "      <td>25</td>\n",
       "      <td>1</td>\n",
       "      <td>0</td>\n",
       "      <td>0</td>\n",
       "      <td>0</td>\n",
       "      <td>1</td>\n",
       "      <td>1</td>\n",
       "      <td>0</td>\n",
       "    </tr>\n",
       "    <tr>\n",
       "      <th>549330</th>\n",
       "      <td>1</td>\n",
       "      <td>24</td>\n",
       "      <td>1</td>\n",
       "      <td>0</td>\n",
       "      <td>0</td>\n",
       "      <td>0</td>\n",
       "      <td>1</td>\n",
       "      <td>1</td>\n",
       "      <td>0</td>\n",
       "    </tr>\n",
       "    <tr>\n",
       "      <th>549331</th>\n",
       "      <td>1</td>\n",
       "      <td>25</td>\n",
       "      <td>1</td>\n",
       "      <td>0</td>\n",
       "      <td>0</td>\n",
       "      <td>0</td>\n",
       "      <td>1</td>\n",
       "      <td>1</td>\n",
       "      <td>0</td>\n",
       "    </tr>\n",
       "    <tr>\n",
       "      <th>549332</th>\n",
       "      <td>1</td>\n",
       "      <td>24</td>\n",
       "      <td>1</td>\n",
       "      <td>0</td>\n",
       "      <td>0</td>\n",
       "      <td>0</td>\n",
       "      <td>0</td>\n",
       "      <td>0</td>\n",
       "      <td>0</td>\n",
       "    </tr>\n",
       "  </tbody>\n",
       "</table>\n",
       "<p>295522 rows × 9 columns</p>\n",
       "</div>"
      ],
      "text/plain": [
       "        NumDots  UrlLength  NumDash  AtSymbol  IpAddress  HttpsInHostname  \\\n",
       "54841         2         28        0         0          0                0   \n",
       "73184         3         36        0         0          0                0   \n",
       "370141        2         33        0         0          0                0   \n",
       "49166         2         36        0         0          0                0   \n",
       "158208        1         50        2         0          0                0   \n",
       "...         ...        ...      ...       ...        ...              ...   \n",
       "549328        3         22        0         0          1                0   \n",
       "549329        1         25        1         0          0                0   \n",
       "549330        1         24        1         0          0                0   \n",
       "549331        1         25        1         0          0                0   \n",
       "549332        1         24        1         0          0                0   \n",
       "\n",
       "        PathLevel  PathLength  NumNumericChars  \n",
       "54841           2           5                0  \n",
       "73184           1          12                1  \n",
       "370141          1          13                0  \n",
       "49166           2          10                0  \n",
       "158208          2          26                0  \n",
       "...           ...         ...              ...  \n",
       "549328          1           1               11  \n",
       "549329          1           1                0  \n",
       "549330          1           1                0  \n",
       "549331          1           1                0  \n",
       "549332          0           0                0  \n",
       "\n",
       "[295522 rows x 9 columns]"
      ]
     },
     "execution_count": 17,
     "metadata": {},
     "output_type": "execute_result"
    }
   ],
   "source": [
    "x"
   ]
  },
  {
   "cell_type": "code",
   "execution_count": 18,
   "id": "1f5e3a14-3ab0-414f-a761-12f293545ca9",
   "metadata": {},
   "outputs": [
    {
     "data": {
      "text/plain": [
       "54841     0\n",
       "73184     0\n",
       "370141    0\n",
       "49166     0\n",
       "158208    0\n",
       "         ..\n",
       "549328    1\n",
       "549329    1\n",
       "549330    1\n",
       "549331    1\n",
       "549332    1\n",
       "Name: Phishing, Length: 295522, dtype: int64"
      ]
     },
     "execution_count": 18,
     "metadata": {},
     "output_type": "execute_result"
    }
   ],
   "source": [
    "y"
   ]
  },
  {
   "cell_type": "code",
   "execution_count": 19,
   "id": "b53d915e-a6fb-4a69-9196-f744b8c0b923",
   "metadata": {},
   "outputs": [],
   "source": [
    "from sklearn.model_selection import train_test_split"
   ]
  },
  {
   "cell_type": "code",
   "execution_count": 20,
   "id": "195a9531-5d22-4408-817a-81e559515920",
   "metadata": {},
   "outputs": [],
   "source": [
    "x_train,x_test,y_train,y_test = train_test_split(x,y,test_size=0.2,random_state=42)"
   ]
  },
  {
   "cell_type": "code",
   "execution_count": 21,
   "id": "cd692965-bd5e-4752-8a1f-da4334e7aa74",
   "metadata": {},
   "outputs": [],
   "source": [
    "from sklearn.tree import DecisionTreeClassifier"
   ]
  },
  {
   "cell_type": "code",
   "execution_count": 22,
   "id": "219338eb-8903-44b9-bc76-0b069c269783",
   "metadata": {},
   "outputs": [
    {
     "data": {
      "text/html": [
       "<style>#sk-container-id-1 {\n",
       "  /* Definition of color scheme common for light and dark mode */\n",
       "  --sklearn-color-text: black;\n",
       "  --sklearn-color-line: gray;\n",
       "  /* Definition of color scheme for unfitted estimators */\n",
       "  --sklearn-color-unfitted-level-0: #fff5e6;\n",
       "  --sklearn-color-unfitted-level-1: #f6e4d2;\n",
       "  --sklearn-color-unfitted-level-2: #ffe0b3;\n",
       "  --sklearn-color-unfitted-level-3: chocolate;\n",
       "  /* Definition of color scheme for fitted estimators */\n",
       "  --sklearn-color-fitted-level-0: #f0f8ff;\n",
       "  --sklearn-color-fitted-level-1: #d4ebff;\n",
       "  --sklearn-color-fitted-level-2: #b3dbfd;\n",
       "  --sklearn-color-fitted-level-3: cornflowerblue;\n",
       "\n",
       "  /* Specific color for light theme */\n",
       "  --sklearn-color-text-on-default-background: var(--sg-text-color, var(--theme-code-foreground, var(--jp-content-font-color1, black)));\n",
       "  --sklearn-color-background: var(--sg-background-color, var(--theme-background, var(--jp-layout-color0, white)));\n",
       "  --sklearn-color-border-box: var(--sg-text-color, var(--theme-code-foreground, var(--jp-content-font-color1, black)));\n",
       "  --sklearn-color-icon: #696969;\n",
       "\n",
       "  @media (prefers-color-scheme: dark) {\n",
       "    /* Redefinition of color scheme for dark theme */\n",
       "    --sklearn-color-text-on-default-background: var(--sg-text-color, var(--theme-code-foreground, var(--jp-content-font-color1, white)));\n",
       "    --sklearn-color-background: var(--sg-background-color, var(--theme-background, var(--jp-layout-color0, #111)));\n",
       "    --sklearn-color-border-box: var(--sg-text-color, var(--theme-code-foreground, var(--jp-content-font-color1, white)));\n",
       "    --sklearn-color-icon: #878787;\n",
       "  }\n",
       "}\n",
       "\n",
       "#sk-container-id-1 {\n",
       "  color: var(--sklearn-color-text);\n",
       "}\n",
       "\n",
       "#sk-container-id-1 pre {\n",
       "  padding: 0;\n",
       "}\n",
       "\n",
       "#sk-container-id-1 input.sk-hidden--visually {\n",
       "  border: 0;\n",
       "  clip: rect(1px 1px 1px 1px);\n",
       "  clip: rect(1px, 1px, 1px, 1px);\n",
       "  height: 1px;\n",
       "  margin: -1px;\n",
       "  overflow: hidden;\n",
       "  padding: 0;\n",
       "  position: absolute;\n",
       "  width: 1px;\n",
       "}\n",
       "\n",
       "#sk-container-id-1 div.sk-dashed-wrapped {\n",
       "  border: 1px dashed var(--sklearn-color-line);\n",
       "  margin: 0 0.4em 0.5em 0.4em;\n",
       "  box-sizing: border-box;\n",
       "  padding-bottom: 0.4em;\n",
       "  background-color: var(--sklearn-color-background);\n",
       "}\n",
       "\n",
       "#sk-container-id-1 div.sk-container {\n",
       "  /* jupyter's `normalize.less` sets `[hidden] { display: none; }`\n",
       "     but bootstrap.min.css set `[hidden] { display: none !important; }`\n",
       "     so we also need the `!important` here to be able to override the\n",
       "     default hidden behavior on the sphinx rendered scikit-learn.org.\n",
       "     See: https://github.com/scikit-learn/scikit-learn/issues/21755 */\n",
       "  display: inline-block !important;\n",
       "  position: relative;\n",
       "}\n",
       "\n",
       "#sk-container-id-1 div.sk-text-repr-fallback {\n",
       "  display: none;\n",
       "}\n",
       "\n",
       "div.sk-parallel-item,\n",
       "div.sk-serial,\n",
       "div.sk-item {\n",
       "  /* draw centered vertical line to link estimators */\n",
       "  background-image: linear-gradient(var(--sklearn-color-text-on-default-background), var(--sklearn-color-text-on-default-background));\n",
       "  background-size: 2px 100%;\n",
       "  background-repeat: no-repeat;\n",
       "  background-position: center center;\n",
       "}\n",
       "\n",
       "/* Parallel-specific style estimator block */\n",
       "\n",
       "#sk-container-id-1 div.sk-parallel-item::after {\n",
       "  content: \"\";\n",
       "  width: 100%;\n",
       "  border-bottom: 2px solid var(--sklearn-color-text-on-default-background);\n",
       "  flex-grow: 1;\n",
       "}\n",
       "\n",
       "#sk-container-id-1 div.sk-parallel {\n",
       "  display: flex;\n",
       "  align-items: stretch;\n",
       "  justify-content: center;\n",
       "  background-color: var(--sklearn-color-background);\n",
       "  position: relative;\n",
       "}\n",
       "\n",
       "#sk-container-id-1 div.sk-parallel-item {\n",
       "  display: flex;\n",
       "  flex-direction: column;\n",
       "}\n",
       "\n",
       "#sk-container-id-1 div.sk-parallel-item:first-child::after {\n",
       "  align-self: flex-end;\n",
       "  width: 50%;\n",
       "}\n",
       "\n",
       "#sk-container-id-1 div.sk-parallel-item:last-child::after {\n",
       "  align-self: flex-start;\n",
       "  width: 50%;\n",
       "}\n",
       "\n",
       "#sk-container-id-1 div.sk-parallel-item:only-child::after {\n",
       "  width: 0;\n",
       "}\n",
       "\n",
       "/* Serial-specific style estimator block */\n",
       "\n",
       "#sk-container-id-1 div.sk-serial {\n",
       "  display: flex;\n",
       "  flex-direction: column;\n",
       "  align-items: center;\n",
       "  background-color: var(--sklearn-color-background);\n",
       "  padding-right: 1em;\n",
       "  padding-left: 1em;\n",
       "}\n",
       "\n",
       "\n",
       "/* Toggleable style: style used for estimator/Pipeline/ColumnTransformer box that is\n",
       "clickable and can be expanded/collapsed.\n",
       "- Pipeline and ColumnTransformer use this feature and define the default style\n",
       "- Estimators will overwrite some part of the style using the `sk-estimator` class\n",
       "*/\n",
       "\n",
       "/* Pipeline and ColumnTransformer style (default) */\n",
       "\n",
       "#sk-container-id-1 div.sk-toggleable {\n",
       "  /* Default theme specific background. It is overwritten whether we have a\n",
       "  specific estimator or a Pipeline/ColumnTransformer */\n",
       "  background-color: var(--sklearn-color-background);\n",
       "}\n",
       "\n",
       "/* Toggleable label */\n",
       "#sk-container-id-1 label.sk-toggleable__label {\n",
       "  cursor: pointer;\n",
       "  display: block;\n",
       "  width: 100%;\n",
       "  margin-bottom: 0;\n",
       "  padding: 0.5em;\n",
       "  box-sizing: border-box;\n",
       "  text-align: center;\n",
       "}\n",
       "\n",
       "#sk-container-id-1 label.sk-toggleable__label-arrow:before {\n",
       "  /* Arrow on the left of the label */\n",
       "  content: \"▸\";\n",
       "  float: left;\n",
       "  margin-right: 0.25em;\n",
       "  color: var(--sklearn-color-icon);\n",
       "}\n",
       "\n",
       "#sk-container-id-1 label.sk-toggleable__label-arrow:hover:before {\n",
       "  color: var(--sklearn-color-text);\n",
       "}\n",
       "\n",
       "/* Toggleable content - dropdown */\n",
       "\n",
       "#sk-container-id-1 div.sk-toggleable__content {\n",
       "  max-height: 0;\n",
       "  max-width: 0;\n",
       "  overflow: hidden;\n",
       "  text-align: left;\n",
       "  /* unfitted */\n",
       "  background-color: var(--sklearn-color-unfitted-level-0);\n",
       "}\n",
       "\n",
       "#sk-container-id-1 div.sk-toggleable__content.fitted {\n",
       "  /* fitted */\n",
       "  background-color: var(--sklearn-color-fitted-level-0);\n",
       "}\n",
       "\n",
       "#sk-container-id-1 div.sk-toggleable__content pre {\n",
       "  margin: 0.2em;\n",
       "  border-radius: 0.25em;\n",
       "  color: var(--sklearn-color-text);\n",
       "  /* unfitted */\n",
       "  background-color: var(--sklearn-color-unfitted-level-0);\n",
       "}\n",
       "\n",
       "#sk-container-id-1 div.sk-toggleable__content.fitted pre {\n",
       "  /* unfitted */\n",
       "  background-color: var(--sklearn-color-fitted-level-0);\n",
       "}\n",
       "\n",
       "#sk-container-id-1 input.sk-toggleable__control:checked~div.sk-toggleable__content {\n",
       "  /* Expand drop-down */\n",
       "  max-height: 200px;\n",
       "  max-width: 100%;\n",
       "  overflow: auto;\n",
       "}\n",
       "\n",
       "#sk-container-id-1 input.sk-toggleable__control:checked~label.sk-toggleable__label-arrow:before {\n",
       "  content: \"▾\";\n",
       "}\n",
       "\n",
       "/* Pipeline/ColumnTransformer-specific style */\n",
       "\n",
       "#sk-container-id-1 div.sk-label input.sk-toggleable__control:checked~label.sk-toggleable__label {\n",
       "  color: var(--sklearn-color-text);\n",
       "  background-color: var(--sklearn-color-unfitted-level-2);\n",
       "}\n",
       "\n",
       "#sk-container-id-1 div.sk-label.fitted input.sk-toggleable__control:checked~label.sk-toggleable__label {\n",
       "  background-color: var(--sklearn-color-fitted-level-2);\n",
       "}\n",
       "\n",
       "/* Estimator-specific style */\n",
       "\n",
       "/* Colorize estimator box */\n",
       "#sk-container-id-1 div.sk-estimator input.sk-toggleable__control:checked~label.sk-toggleable__label {\n",
       "  /* unfitted */\n",
       "  background-color: var(--sklearn-color-unfitted-level-2);\n",
       "}\n",
       "\n",
       "#sk-container-id-1 div.sk-estimator.fitted input.sk-toggleable__control:checked~label.sk-toggleable__label {\n",
       "  /* fitted */\n",
       "  background-color: var(--sklearn-color-fitted-level-2);\n",
       "}\n",
       "\n",
       "#sk-container-id-1 div.sk-label label.sk-toggleable__label,\n",
       "#sk-container-id-1 div.sk-label label {\n",
       "  /* The background is the default theme color */\n",
       "  color: var(--sklearn-color-text-on-default-background);\n",
       "}\n",
       "\n",
       "/* On hover, darken the color of the background */\n",
       "#sk-container-id-1 div.sk-label:hover label.sk-toggleable__label {\n",
       "  color: var(--sklearn-color-text);\n",
       "  background-color: var(--sklearn-color-unfitted-level-2);\n",
       "}\n",
       "\n",
       "/* Label box, darken color on hover, fitted */\n",
       "#sk-container-id-1 div.sk-label.fitted:hover label.sk-toggleable__label.fitted {\n",
       "  color: var(--sklearn-color-text);\n",
       "  background-color: var(--sklearn-color-fitted-level-2);\n",
       "}\n",
       "\n",
       "/* Estimator label */\n",
       "\n",
       "#sk-container-id-1 div.sk-label label {\n",
       "  font-family: monospace;\n",
       "  font-weight: bold;\n",
       "  display: inline-block;\n",
       "  line-height: 1.2em;\n",
       "}\n",
       "\n",
       "#sk-container-id-1 div.sk-label-container {\n",
       "  text-align: center;\n",
       "}\n",
       "\n",
       "/* Estimator-specific */\n",
       "#sk-container-id-1 div.sk-estimator {\n",
       "  font-family: monospace;\n",
       "  border: 1px dotted var(--sklearn-color-border-box);\n",
       "  border-radius: 0.25em;\n",
       "  box-sizing: border-box;\n",
       "  margin-bottom: 0.5em;\n",
       "  /* unfitted */\n",
       "  background-color: var(--sklearn-color-unfitted-level-0);\n",
       "}\n",
       "\n",
       "#sk-container-id-1 div.sk-estimator.fitted {\n",
       "  /* fitted */\n",
       "  background-color: var(--sklearn-color-fitted-level-0);\n",
       "}\n",
       "\n",
       "/* on hover */\n",
       "#sk-container-id-1 div.sk-estimator:hover {\n",
       "  /* unfitted */\n",
       "  background-color: var(--sklearn-color-unfitted-level-2);\n",
       "}\n",
       "\n",
       "#sk-container-id-1 div.sk-estimator.fitted:hover {\n",
       "  /* fitted */\n",
       "  background-color: var(--sklearn-color-fitted-level-2);\n",
       "}\n",
       "\n",
       "/* Specification for estimator info (e.g. \"i\" and \"?\") */\n",
       "\n",
       "/* Common style for \"i\" and \"?\" */\n",
       "\n",
       ".sk-estimator-doc-link,\n",
       "a:link.sk-estimator-doc-link,\n",
       "a:visited.sk-estimator-doc-link {\n",
       "  float: right;\n",
       "  font-size: smaller;\n",
       "  line-height: 1em;\n",
       "  font-family: monospace;\n",
       "  background-color: var(--sklearn-color-background);\n",
       "  border-radius: 1em;\n",
       "  height: 1em;\n",
       "  width: 1em;\n",
       "  text-decoration: none !important;\n",
       "  margin-left: 1ex;\n",
       "  /* unfitted */\n",
       "  border: var(--sklearn-color-unfitted-level-1) 1pt solid;\n",
       "  color: var(--sklearn-color-unfitted-level-1);\n",
       "}\n",
       "\n",
       ".sk-estimator-doc-link.fitted,\n",
       "a:link.sk-estimator-doc-link.fitted,\n",
       "a:visited.sk-estimator-doc-link.fitted {\n",
       "  /* fitted */\n",
       "  border: var(--sklearn-color-fitted-level-1) 1pt solid;\n",
       "  color: var(--sklearn-color-fitted-level-1);\n",
       "}\n",
       "\n",
       "/* On hover */\n",
       "div.sk-estimator:hover .sk-estimator-doc-link:hover,\n",
       ".sk-estimator-doc-link:hover,\n",
       "div.sk-label-container:hover .sk-estimator-doc-link:hover,\n",
       ".sk-estimator-doc-link:hover {\n",
       "  /* unfitted */\n",
       "  background-color: var(--sklearn-color-unfitted-level-3);\n",
       "  color: var(--sklearn-color-background);\n",
       "  text-decoration: none;\n",
       "}\n",
       "\n",
       "div.sk-estimator.fitted:hover .sk-estimator-doc-link.fitted:hover,\n",
       ".sk-estimator-doc-link.fitted:hover,\n",
       "div.sk-label-container:hover .sk-estimator-doc-link.fitted:hover,\n",
       ".sk-estimator-doc-link.fitted:hover {\n",
       "  /* fitted */\n",
       "  background-color: var(--sklearn-color-fitted-level-3);\n",
       "  color: var(--sklearn-color-background);\n",
       "  text-decoration: none;\n",
       "}\n",
       "\n",
       "/* Span, style for the box shown on hovering the info icon */\n",
       ".sk-estimator-doc-link span {\n",
       "  display: none;\n",
       "  z-index: 9999;\n",
       "  position: relative;\n",
       "  font-weight: normal;\n",
       "  right: .2ex;\n",
       "  padding: .5ex;\n",
       "  margin: .5ex;\n",
       "  width: min-content;\n",
       "  min-width: 20ex;\n",
       "  max-width: 50ex;\n",
       "  color: var(--sklearn-color-text);\n",
       "  box-shadow: 2pt 2pt 4pt #999;\n",
       "  /* unfitted */\n",
       "  background: var(--sklearn-color-unfitted-level-0);\n",
       "  border: .5pt solid var(--sklearn-color-unfitted-level-3);\n",
       "}\n",
       "\n",
       ".sk-estimator-doc-link.fitted span {\n",
       "  /* fitted */\n",
       "  background: var(--sklearn-color-fitted-level-0);\n",
       "  border: var(--sklearn-color-fitted-level-3);\n",
       "}\n",
       "\n",
       ".sk-estimator-doc-link:hover span {\n",
       "  display: block;\n",
       "}\n",
       "\n",
       "/* \"?\"-specific style due to the `<a>` HTML tag */\n",
       "\n",
       "#sk-container-id-1 a.estimator_doc_link {\n",
       "  float: right;\n",
       "  font-size: 1rem;\n",
       "  line-height: 1em;\n",
       "  font-family: monospace;\n",
       "  background-color: var(--sklearn-color-background);\n",
       "  border-radius: 1rem;\n",
       "  height: 1rem;\n",
       "  width: 1rem;\n",
       "  text-decoration: none;\n",
       "  /* unfitted */\n",
       "  color: var(--sklearn-color-unfitted-level-1);\n",
       "  border: var(--sklearn-color-unfitted-level-1) 1pt solid;\n",
       "}\n",
       "\n",
       "#sk-container-id-1 a.estimator_doc_link.fitted {\n",
       "  /* fitted */\n",
       "  border: var(--sklearn-color-fitted-level-1) 1pt solid;\n",
       "  color: var(--sklearn-color-fitted-level-1);\n",
       "}\n",
       "\n",
       "/* On hover */\n",
       "#sk-container-id-1 a.estimator_doc_link:hover {\n",
       "  /* unfitted */\n",
       "  background-color: var(--sklearn-color-unfitted-level-3);\n",
       "  color: var(--sklearn-color-background);\n",
       "  text-decoration: none;\n",
       "}\n",
       "\n",
       "#sk-container-id-1 a.estimator_doc_link.fitted:hover {\n",
       "  /* fitted */\n",
       "  background-color: var(--sklearn-color-fitted-level-3);\n",
       "}\n",
       "</style><div id=\"sk-container-id-1\" class=\"sk-top-container\"><div class=\"sk-text-repr-fallback\"><pre>DecisionTreeClassifier(max_depth=15, min_samples_split=15, random_state=42)</pre><b>In a Jupyter environment, please rerun this cell to show the HTML representation or trust the notebook. <br />On GitHub, the HTML representation is unable to render, please try loading this page with nbviewer.org.</b></div><div class=\"sk-container\" hidden><div class=\"sk-item\"><div class=\"sk-estimator fitted sk-toggleable\"><input class=\"sk-toggleable__control sk-hidden--visually\" id=\"sk-estimator-id-1\" type=\"checkbox\" checked><label for=\"sk-estimator-id-1\" class=\"sk-toggleable__label fitted sk-toggleable__label-arrow fitted\">&nbsp;&nbsp;DecisionTreeClassifier<a class=\"sk-estimator-doc-link fitted\" rel=\"noreferrer\" target=\"_blank\" href=\"https://scikit-learn.org/1.5/modules/generated/sklearn.tree.DecisionTreeClassifier.html\">?<span>Documentation for DecisionTreeClassifier</span></a><span class=\"sk-estimator-doc-link fitted\">i<span>Fitted</span></span></label><div class=\"sk-toggleable__content fitted\"><pre>DecisionTreeClassifier(max_depth=15, min_samples_split=15, random_state=42)</pre></div> </div></div></div></div>"
      ],
      "text/plain": [
       "DecisionTreeClassifier(max_depth=15, min_samples_split=15, random_state=42)"
      ]
     },
     "execution_count": 22,
     "metadata": {},
     "output_type": "execute_result"
    }
   ],
   "source": [
    "dt = DecisionTreeClassifier(random_state=42,max_depth=15, min_samples_split=15)\n",
    "dt.fit(x_train,y_train)"
   ]
  },
  {
   "cell_type": "code",
   "execution_count": 23,
   "id": "ae33c2dc-5741-48e5-aa61-cdab27951fd0",
   "metadata": {},
   "outputs": [],
   "source": [
    "y_pred = dt.predict(x_test)"
   ]
  },
  {
   "cell_type": "code",
   "execution_count": 216,
   "id": "411ef42b-ac6b-4b95-abd3-393092b8a12b",
   "metadata": {},
   "outputs": [
    {
     "data": {
      "image/png": "[encoded data removed]",
      "text/plain": [
       "<Figure size 640x480 with 1 Axes>"
      ]
     },
     "metadata": {},
     "output_type": "display_data"
    }
   ],
   "source": [
    "training_accuracy = []\n",
    "test_accuracy = []\n",
    "depth = range(1,30)\n",
    "for n in depth:\n",
    "    tree_test = DecisionTreeClassifier(max_depth=n)\n",
    "    tree_test.fit(x_train, y_train)\n",
    "    training_accuracy.append(tree_test.score(x_train, y_train))\n",
    "    test_accuracy.append(tree_test.score(x_test, y_test))\n",
    "plt.plot(depth, training_accuracy, label=\"training accuracy\")\n",
    "plt.plot(depth, test_accuracy, label=\"test accuracy\")\n",
    "plt.ylabel(\"Accuracy\")  \n",
    "plt.xlabel(\"max_depth\")\n",
    "plt.legend();\n",
    "plt.title(\"Comparison of Training and Testing Accuracy\")\n",
    "plt.savefig(r\"C:\\Users\\baghe\\Desktop\\Machine Learning\\Phishing URL Detection\\static\\training vs testing.png\", dpi=100, transparent=True)"
   ]
  },
  {
   "cell_type": "code",
   "execution_count": 24,
   "id": "880f66d9-34c9-4d87-a587-eed71292c292",
   "metadata": {},
   "outputs": [],
   "source": [
    "from sklearn.metrics import accuracy_score"
   ]
  },
  {
   "cell_type": "code",
   "execution_count": 25,
   "id": "220d9b22-d491-47a5-baaa-3922660e923c",
   "metadata": {},
   "outputs": [
    {
     "data": {
      "text/plain": [
       "81.2114034345656"
      ]
     },
     "execution_count": 25,
     "metadata": {},
     "output_type": "execute_result"
    }
   ],
   "source": [
    "accuracy_score(y_pred,y_test)*100"
   ]
  },
  {
   "cell_type": "code",
   "execution_count": 26,
   "id": "a093a268-cf88-40bb-a99e-a7f855c38216",
   "metadata": {},
   "outputs": [],
   "source": [
    "from sklearn.metrics import confusion_matrix"
   ]
  },
  {
   "cell_type": "code",
   "execution_count": 27,
   "id": "03eda500-1df4-49ed-b5ed-0f74fd43cff1",
   "metadata": {},
   "outputs": [
    {
     "name": "stdout",
     "output_type": "stream",
     "text": [
      "Confusion Matrix:  [[24747  6431]\n",
      " [ 4674 23253]]\n"
     ]
    }
   ],
   "source": [
    "print(\"Confusion Matrix: \",confusion_matrix(y_pred,y_test))"
   ]
  },
  {
   "cell_type": "code",
   "execution_count": 28,
   "id": "38003fc0-a102-4d25-9ed0-15d920445019",
   "metadata": {},
   "outputs": [],
   "source": [
    "from sklearn.metrics import precision_score,recall_score,f1_score"
   ]
  },
  {
   "cell_type": "code",
   "execution_count": 29,
   "id": "37bbcb57-1270-4f59-b772-0eb855d98376",
   "metadata": {},
   "outputs": [
    {
     "name": "stdout",
     "output_type": "stream",
     "text": [
      "Precision Score:  78.33513003638323\n",
      "Recall Score:  83.26350843269954\n",
      "F1 Score:  80.72416725972471\n"
     ]
    }
   ],
   "source": [
    "print(\"Precision Score: \",precision_score(y_pred,y_test)*100)\n",
    "print(\"Recall Score: \",recall_score(y_pred,y_test)*100)\n",
    "print(\"F1 Score: \",f1_score(y_pred,y_test)*100)"
   ]
  },
  {
   "cell_type": "code",
   "execution_count": 37,
   "id": "54c66628-4624-4dbf-96a5-4cd3b0540a48",
   "metadata": {},
   "outputs": [],
   "source": [
    "import pickle\n",
    "pickle.dump(dt,open('Decision_Tree_Model.pkl','wb'))\n",
    "pickle.dump(y_test,open('y_test.pkl','wb'))\n",
    "pickle.dump(y_pred,open('y_pred.pkl','wb'))"
   ]
  },
  {
   "cell_type": "code",
   "execution_count": 38,
   "id": "ee0c5342-bc5d-4658-ab9e-328e31c40fd7",
   "metadata": {},
   "outputs": [],
   "source": [
    "import re\n",
    "from urllib.parse import urlparse\n",
    "\n",
    "def extract_features(url):\n",
    "    parsed = urlparse(url)\n",
    "    hostname = parsed.hostname or \"\"\n",
    "    path = parsed.path\n",
    "\n",
    "    features = [\n",
    "        url.count('.'),                           # NumDots\n",
    "        len(url),                                 # UrlLength\n",
    "        url.count('-'),                           # NumDash\n",
    "        1 if '@' in url else 0,                   # AtSymbol\n",
    "        1 if re.match(r\"^\\d{1,3}(\\.\\d{1,3}){3}$\", hostname) else 0,  # IpAddress\n",
    "        1 if 'https' in hostname else 0,          # HttpsInHostname\n",
    "        path.count('/'),                          # PathLevel\n",
    "        len(path),                                # PathLength\n",
    "        len(re.findall(r'\\d', url))               # NumNumericChars\n",
    "    ]\n",
    "    return features"
   ]
  },
  {
   "cell_type": "code",
   "execution_count": 39,
   "id": "72f87759-4497-4614-92ce-85b09fcaf75b",
   "metadata": {},
   "outputs": [
    {
     "name": "stdout",
     "output_type": "stream",
     "text": [
      "[2, 23, 0, 0, 0, 0, 1, 1, 0]\n"
     ]
    }
   ],
   "source": [
    "url = \"https://www.google.com/\"\n",
    "features = extract_features(url)\n",
    "print(features)"
   ]
  },
  {
   "cell_type": "code",
   "execution_count": 40,
   "id": "e453d676-8b35-4b4b-a643-dbc38bf77a1a",
   "metadata": {},
   "outputs": [],
   "source": [
    "result = dt.predict([features])"
   ]
  },
  {
   "cell_type": "code",
   "execution_count": 41,
   "id": "6c53badf-f185-48b1-8ce8-e160f05a1582",
   "metadata": {},
   "outputs": [
    {
     "name": "stdout",
     "output_type": "stream",
     "text": [
      "Website is Safe for Use.......\n"
     ]
    }
   ],
   "source": [
    "if(result == 1):\n",
    "    print(\"Website is not Safe.....\")\n",
    "else:\n",
    "    print(\"Website is Safe for Use.......\")"
   ]
  },
  {
   "cell_type": "code",
   "execution_count": 42,
   "id": "e5593e37-8573-4d20-8869-be298ea9dce6",
   "metadata": {},
   "outputs": [
    {
     "data": {
      "image/png": "[encoded data removed]",
      "text/plain": [
       "<Figure size 640x480 with 2 Axes>"
      ]
     },
     "metadata": {},
     "output_type": "display_data"
    },
    {
     "data": {
      "image/png": "[encoded data removed]",
      "text/plain": [
       "<Figure size 640x480 with 2 Axes>"
      ]
     },
     "metadata": {},
     "output_type": "display_data"
    }
   ],
   "source": [
    "from sklearn.metrics import confusion_matrix, ConfusionMatrixDisplay\n",
    "\n",
    "# For training set\n",
    "ConfusionMatrixDisplay.from_estimator(dt, x_train, y_train, cmap='Blues')\n",
    "plt.title(\"Confusion Matrix - Train Set\")\n",
    "plt.show()\n",
    "\n",
    "# For test set\n",
    "ConfusionMatrixDisplay.from_estimator(dt, x_test, y_test, cmap='Oranges')\n",
    "plt.title(\"Confusion Matrix - Test Set\")\n",
    "plt.show()\n"
   ]
  },
  {
   "cell_type": "code",
   "execution_count": 48,
   "id": "ca9c1b91-c36c-4d9b-8d42-1701f58b6ec3",
   "metadata": {},
   "outputs": [
    {
     "data": {
      "text/plain": [
       "<Figure size 300x400 with 0 Axes>"
      ]
     },
     "metadata": {},
     "output_type": "display_data"
    },
    {
     "data": {
      "image/png": "[encoded data removed]",
      "text/plain": [
       "<Figure size 640x480 with 2 Axes>"
      ]
     },
     "metadata": {},
     "output_type": "display_data"
    }
   ],
   "source": [
    "plt.figure(figsize=(3,4))\n",
    "ConfusionMatrixDisplay.from_estimator(dt, x_test, y_test, cmap='Blues')\n",
    "plt.title(\"Confusion Matrix\")\n",
    "plt.savefig(r\"C:\\Users\\baghe\\Desktop\\Machine Learning\\Phishing URL Detection\\static\\confusion_matrix.png\", dpi=100, transparent=True)\n",
    "plt.show()"
   ]
  },
  {
   "cell_type": "code",
   "execution_count": null,
   "id": "84c56b7c-3188-4b47-ad84-72b8619eaf2f",
   "metadata": {},
   "outputs": [],
   "source": []
  },
  {
   "cell_type": "code",
   "execution_count": null,
   "id": "702f6023-23f0-426c-9a56-2092ab350109",
   "metadata": {},
   "outputs": [],
   "source": []
  },
  {
   "cell_type": "code",
   "execution_count": null,
   "id": "36c98376-5920-4a70-83f8-16dea129e1cd",
   "metadata": {},
   "outputs": [],
   "source": []
  }
 ],
 "metadata": {
  "kernelspec": {
   "display_name": "Python 3 (ipykernel)",
   "language": "python",
   "name": "python3"
  },
  "language_info": {
   "codemirror_mode": {
    "name": "ipython",
    "version": 3
   },
   "file_extension": ".py",
   "mimetype": "text/x-python",
   "name": "python",
   "nbconvert_exporter": "python",
   "pygments_lexer": "ipython3",
   "version": "3.10.0"
  }
 },
 "nbformat": 4,
 "nbformat_minor": 5
}
